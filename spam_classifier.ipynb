{
  "cells": [
    {
      "cell_type": "code",
      "execution_count": 149,
      "metadata": {
        "id": "u3OAb_DdWT1L"
      },
      "outputs": [],
      "source": [
        "import urllib.request\n",
        "import sys\n",
        "import tarfile\n",
        "import os\n",
        "import numpy\n",
        "import sklearn\n",
        "import email\n",
        "import email.policy\n",
        "import numpy as np\n",
        "import re\n",
        "from html import unescape\n",
        "from sklearn.model_selection import train_test_split\n",
        "import collections\n",
        "from sklearn.svm import SVC\n",
        "from sklearn.feature_extraction.text import CountVectorizer\n",
        "from sklearn.model_selection import train_test_split\n",
        "from sklearn.preprocessing import StandardScaler\n",
        "from sklearn import metrics\n",
        "import matplotlib.pyplot as plt\n",
        "from nltk.stem import PorterStemmer\n",
        "import string"
      ]
    },
    {
      "attachments": {},
      "cell_type": "markdown",
      "metadata": {
        "id": "kVJVP8_4f-aB"
      },
      "source": [
        "# Loading data\n",
        " "
      ]
    },
    {
      "cell_type": "code",
      "execution_count": 150,
      "metadata": {
        "id": "VWJkfuALb4dg"
      },
      "outputs": [],
      "source": [
        "def download_and_extract_dataset(file_names, urls, download_directory, dataset_type):\n",
        "    for (file_name, url) in zip(file_names, urls):\n",
        "        file_path = os.path.join(download_directory, file_name)\n",
        "        if not os.path.isfile(file_path):\n",
        "            urllib.request.urlretrieve(url, file_path)\n",
        "        tar_file = tarfile.open(file_path)\n",
        "        \n",
        "        # Remove the path by resetting it\n",
        "        members = []\n",
        "        for member in tar_file.getmembers():\n",
        "            if member.isreg():\n",
        "                member.name = os.path.basename(member.name) \n",
        "                members.append(member)\n",
        "        tar_file.extractall(path=os.path.join(download_directory, dataset_type), members=members)\n",
        "        tar_file.close()"
      ]
    },
    {
      "cell_type": "code",
      "execution_count": 151,
      "metadata": {
        "id": "3_xELUHNiI0d"
      },
      "outputs": [],
      "source": [
        "root = \"https://spamassassin.apache.org/old/publiccorpus/\"\n",
        "\n",
        "ham1_url = root + \"20021010_easy_ham.tar.bz2\"\n",
        "\n",
        "ham3_url = root + \"20030228_easy_ham_2.tar.bz2\"\n",
        "\n",
        "ham5_url = root + \"20030228_hard_ham.tar.bz2\"\n",
        "\n",
        "ham_url = [ham1_url, ham3_url, ham5_url]\n",
        "\n",
        "ham_filename = [\"ham1.tar.bz2\", \"ham3.tar.bz2\", \"ham5.tar.bz2\"]\n",
        "\n",
        "spam1_url = root + \"20021010_spam.tar.bz2\"\n",
        "\n",
        "spam4_url = root + \"20050311_spam_2.tar.bz2\"\n",
        "\n",
        "spam_url = [spam1_url, spam4_url]\n",
        "\n",
        "spam_filename = [\"spam1.tar.bz2\", \"spam4.tar.bz2\"]\n",
        "\n",
        "path = \"./data/\"\n",
        "\n",
        "if not os.path.isdir(path):\n",
        " os.makedirs(path)\n",
        "\n",
        "download_and_extract_dataset(spam_filename, spam_url, path, \"spam\")\n",
        "\n",
        "download_and_extract_dataset(ham_filename, ham_url, path, \"ham\")"
      ]
    },
    {
      "cell_type": "code",
      "execution_count": 152,
      "metadata": {
        "id": "ENZPatdvigCJ"
      },
      "outputs": [],
      "source": [
        "def load_emails(directory, filename):\n",
        "    \n",
        "    with open(os.path.join(directory, filename), \"rb\") as f:\n",
        "      \n",
        "        return email.parser.BytesParser(policy=email.policy.default).parse(f)"
      ]
    },
    {
      "cell_type": "code",
      "execution_count": 153,
      "metadata": {
        "id": "FnjEOTPfjLyP"
      },
      "outputs": [],
      "source": [
        "\n",
        "ham_filenames = [name for name in sorted(os.listdir(\"./data/ham\")) if name != 'cmds']\n",
        "spam_filenames = [name for name in sorted(os.listdir(\"./data/spam\")) if name != 'cmds']\n",
        "\n",
        "ham_emails = [load_emails(\"./data/ham\", filename=name) for name in ham_filenames]\n",
        "spam_emails = [load_emails(\"./data/spam\", filename=name) for name in spam_filenames]\n",
        "\n",
        "X = np.array(ham_emails + spam_emails, dtype=object)\n",
        "y = np.array([0] * len(ham_emails) + [1] * len(spam_emails))\n"
      ]
    },
    {
      "cell_type": "code",
      "execution_count": 154,
      "metadata": {
        "colab": {
          "base_uri": "https://localhost:8080/"
        },
        "id": "fUXzORsXVC-I",
        "outputId": "e46494f7-731e-4e0c-a22a-f203382909cf"
      },
      "outputs": [
        {
          "data": {
            "text/plain": [
              "1897"
            ]
          },
          "execution_count": 154,
          "metadata": {},
          "output_type": "execute_result"
        }
      ],
      "source": [
        "len(spam_emails)"
      ]
    },
    {
      "cell_type": "code",
      "execution_count": 155,
      "metadata": {
        "id": "_Qi59hXUUFIf"
      },
      "outputs": [],
      "source": [
        "ham= np.array(ham_emails,dtype=object)\n",
        "spam= np.array(spam_emails,dtype=object)\n"
      ]
    },
    {
      "cell_type": "code",
      "execution_count": 156,
      "metadata": {
        "colab": {
          "base_uri": "https://localhost:8080/"
        },
        "id": "oRjAQA76j7WY",
        "outputId": "20712b15-a7c4-434b-8b9e-12dbb7fc9262"
      },
      "outputs": [
        {
          "data": {
            "text/plain": [
              "((6098,), (6098,))"
            ]
          },
          "execution_count": 156,
          "metadata": {},
          "output_type": "execute_result"
        }
      ],
      "source": [
        "X.shape, y.shape"
      ]
    },
    {
      "cell_type": "code",
      "execution_count": 157,
      "metadata": {
        "colab": {
          "base_uri": "https://localhost:8080/"
        },
        "id": "D41vBGghhom-",
        "outputId": "a4f8018f-b0b3-4985-9543-74be10455e94"
      },
      "outputs": [
        {
          "data": {
            "text/plain": [
              "array([0, 0, 0, ..., 1, 1, 1])"
            ]
          },
          "execution_count": 157,
          "metadata": {},
          "output_type": "execute_result"
        }
      ],
      "source": [
        "y"
      ]
    },
    {
      "attachments": {},
      "cell_type": "markdown",
      "metadata": {
        "id": "eh1urhVfiEGb"
      },
      "source": [
        "# Data Preprocessing\n",
        " "
      ]
    },
    {
      "attachments": {},
      "cell_type": "markdown",
      "metadata": {
        "id": "achflDnPi3rF"
      },
      "source": [
        "Cette fonction prétraite le corps d'un email"
      ]
    },
    {
      "cell_type": "code",
      "execution_count": 158,
      "metadata": {
        "id": "0xQeIUGlli0m"
      },
      "outputs": [],
      "source": [
        "\n",
        "def preprocessing(email_contents):\n",
        "\n",
        "  # Convert all letters to lowercase\n",
        "  email_contents=email_contents.lower()\n",
        "  # Remove HTML tags\n",
        "  email_contents = re.sub('<[^<>]+>', ' ', email_contents)\n",
        "  # Normalize URLs\n",
        "  email_contents = re.sub('(http|https)://[^\\s]*', 'httpaddr', email_contents)\n",
        "   # Normalize email addresses\n",
        "  email_contents = re.sub('\\S+@\\S+', 'emailaddr', email_contents)\n",
        "   # Normalize numbers\n",
        "  email_contents = re.sub('\\d+', 'nombre', email_contents)\n",
        "   # Normalize dollar signs\n",
        "  email_contents = re.sub('\\$', 'dollar', email_contents)\n",
        "   # Stem words\n",
        "  stemmer = PorterStemmer()\n",
        "  words = re.findall('\\w+', email_contents)\n",
        "  stemmed_words = [stemmer.stem(word) for word in words]\n",
        "  email_contents = ' '.join(stemmed_words)\n",
        " # Remove non-words and punctuation, replace white spaces with a single space\n",
        "   # Replace non-word characters with a space\n",
        "  email_contents = re.sub(r'\\W+', ' ', email_contents)\n",
        "    #Remove punctuation\n",
        "  email_contents = email_contents.translate(str.maketrans('', '', string.punctuation)) \n",
        "    # Replace newlines and tabs with a space\n",
        "  email_contents= re.sub(r'\\n|\\t', ' ', email_contents)\n",
        "    \n",
        "    # Normalize whitespace\n",
        "  email_contents = re.sub(r'\\s+', ' ', email_contents).strip()\n",
        "  return email_contents\n"
      ]
    },
    {
      "cell_type": "code",
      "execution_count": 159,
      "metadata": {
        "id": "Wo_E4c0lNoEh"
      },
      "outputs": [],
      "source": [
        "#Convert html to text\n",
        "def html_to_text(html):\n",
        "\n",
        "    email_content= re.sub(r'<head.*?>.*?</head>', '', html, flags=re.M | re.S | re.I)\n",
        "    email_content = re.sub(r'<a\\s.*?>', ' HYPERLINK ', email_content, flags=re.M | re.S | re.I)\n",
        "    email_content = re.sub(r'<.*?>', '', email_content, flags=re.M | re.S)\n",
        "    email_content = re.sub(r'(\\s*\\n)+', '\\n', email_content, flags=re.M | re.S)\n",
        "    \n",
        "    return unescape(email_content) \n",
        "\n",
        "#Convert email to texte (lisibe)\n",
        "def email_to_text(email):\n",
        "    \n",
        "    html = None\n",
        "    for entity in email.walk():\n",
        "\n",
        "        #Some emails have multiple parts, each part is handled separately\n",
        "        entity_type = entity.get_content_type()\n",
        "        if not entity_type in (\"text/plain\", \"text/html\"):\n",
        "            continue\n",
        "        \n",
        "        try:\n",
        "            content = entity.get_content()\n",
        "            #Sometimes this is impossible for encoding reasons\n",
        "        except: \n",
        "            content = str(entity.get_payload())\n",
        "        if entity_type == \"text/plain\":\n",
        "            return content\n",
        "        else:\n",
        "            html = content\n",
        "    if html:\n",
        "        return html_to_text(html)"
      ]
    },
    {
      "cell_type": "code",
      "execution_count": 161,
      "metadata": {
        "id": "V6SQXKbxkHbS"
      },
      "outputs": [],
      "source": [
        "##la fonction qui fait le preprocessig de tous les emails\n",
        "def preprocess(X): \n",
        "  emails_process =[]\n",
        "\n",
        "  for email_content in X:\n",
        "    email_content=email_to_text(email_content) or \" \"\n",
        "    email_content=preprocessing(email_content)\n",
        "    emails_process.append(email_content)\n",
        "\n",
        "  return emails_process"
      ]
    },
    {
      "cell_type": "code",
      "execution_count": 187,
      "metadata": {
        "id": "o7Sl1iHCiHp3"
      },
      "outputs": [],
      "source": [
        "_X=preprocess(X)"
      ]
    },
    {
      "attachments": {},
      "cell_type": "markdown",
      "metadata": {
        "id": "2Yvz5-FYjiTN"
      },
      "source": [
        "Exemple pour voir le preprocessing "
      ]
    },
    {
      "cell_type": "code",
      "execution_count": 192,
      "metadata": {
        "colab": {
          "base_uri": "https://localhost:8080/"
        },
        "id": "zipQahg_jSrf",
        "outputId": "ce0299d7-dff9-4f07-f379-36749442df51"
      },
      "outputs": [
        {
          "name": "stdout",
          "output_type": "stream",
          "text": [
            "\n",
            "Avant le preprocessing :\n",
            "     Date:        Tue, 20 Aug 2002 17:27:47 -0500\n",
            "    From:        Chris Garrigues <cwg-exmh@DeepEddy.Com>\n",
            "    Message-ID:  <1029882468.3116.TMDA@deepeddy.vircio.com>\n",
            "\n",
            "\n",
            "  | I'm hoping that all people with no additional sequences will notice are\n",
            "  | purely cosmetic changes.\n",
            "\n",
            "Well, first, when exmh (the latest one with your changes) starts, I get...\n",
            "\n",
            "can't read \"flist(totalcount,unseen)\": no such element in array\n",
            "    while executing\n",
            "\"if {$flist(totalcount,$mhProfile(unseen-sequence)) > 0} {\n",
            "\tFlagInner spool iconspool labelup\n",
            "    } else {\n",
            "\tFlagInner down icondown labeldown\n",
            "    }\"\n",
            "    (procedure \"Flag_MsgSeen\" line 3)\n",
            "    invoked from within\n",
            "\"Flag_MsgSeen\"\n",
            "    (procedure \"MsgSeen\" line 8)\n",
            "    invoked from within\n",
            "\"MsgSeen $msgid\"\n",
            "    (procedure \"MsgShow\" line 12)\n",
            "    invoked from within\n",
            "\"MsgShow $msgid\"\n",
            "    (procedure \"MsgChange\" line 17)\n",
            "    invoked from within\n",
            "\"MsgChange 4862 show\"\n",
            "    invoked from within\n",
            "\"time [list MsgChange $msgid $show\"\n",
            "    (procedure \"Msg_Change\" line 3)\n",
            "    invoked from within\n",
            "\"Msg_Change $msg(id) $show\"\n",
            "    (procedure \"Msg_Show\" line 7)\n",
            "    invoked from within\n",
            "\"Msg_Show cur\"\n",
            "    (\"eval\" body line 1)\n",
            "    invoked from within\n",
            "\"eval $msgShowProc\"\n",
            "    (procedure \"FolderChange\" line 55)\n",
            "    invoked from within\n",
            "\"FolderChange inbox {Msg_Show cur}\"\n",
            "    invoked from within\n",
            "\"time [list  FolderChange $folder $msgShowProc\"\n",
            "    (procedure \"Folder_Change\" line 3)\n",
            "    invoked from within\n",
            "\"Folder_Change $exmh(folder)\"\n",
            "    (procedure \"Exmh\" line 101)\n",
            "    invoked from within\n",
            "\"Exmh\"\n",
            "    (\"after\" script)\n",
            "\n",
            "which is probably related to my not having an \"unseen\" sequence anywhere\n",
            "(certainly not in inbox) - I read all of my outstanding mail before I\n",
            "tried this new exmh ...\n",
            "\n",
            "Second, I've been used to having a key binding which was to Msg_MarkUnseen\n",
            "which doesn't seem to exist any more, and I'm not sure what I should replace\n",
            "that with.   There's obviously a way as the \"Sequences\" menu does this.\n",
            "The \"Mark Unseen\" menu entry in the message \"More\" menu is still wanting\n",
            "that function as well...\n",
            "\n",
            "  | For those who have other sequences defined, the window will widen to\n",
            "  | display the other sequences.\n",
            "\n",
            "Any chance of having that lengthen instead?   I like all my exmh stuff\n",
            "in nice columns (fits the display better).   That is, I use the detached\n",
            "folder list, one column.   The main exmh window takes up full screen,\n",
            "top to bottom, but less than half the width, etc...\n",
            "\n",
            "I have space for more sequences, in the \"unseen\" window, as long as they\n",
            "remain once nice narrow window (best would be if the sequences could be\n",
            "ordered by some preference, then ones which didn't fit would just fall\n",
            "off the bottom, and not be shown).\n",
            "\n",
            "I'd also prefer it if that window had no unusual background colouring,\n",
            "just one constant colour - I have been running the unseen window with\n",
            "background black, on a root window that is all black, with no borders or\n",
            "other decorations, but made \"sticky\" - the appearance is just like the\n",
            "folders with unseen messages (and their counts) are written into the\n",
            "root window (because it is sticky, this small display follows me around\n",
            "and do I can see when new mail needs processing).\n",
            "\n",
            "I also find that I tend to have a bunch of sequences that only ever occur\n",
            "in one folder (some I had forgotten I ever created).  So in addition to\n",
            "the \"sequences to always show\" and \"sequences to never show\", a\n",
            "preference to only show sequences that occur in more than one folder\n",
            "would be useful, and then have the sequences that occor only in the\n",
            "folder I'm visiting appear in the list when that folder is current.\n",
            "This is just to keep the list size somewhat manageable while remaining\n",
            "productive (I quite often use a sequence to remember a particular message\n",
            "in a folder - the name is used only there, and only for one message,\n",
            "it gives me a handle on the message which remains as the folder is\n",
            "packed, sorted, etc).\n",
            "\n",
            "I haven't updated my exmh for some time now, so I'm not sure if this\n",
            "next one is new, or just new since 2.5, but the Sequences menu (on the\n",
            "bar with New Flist Search ...) only contains \"unseen\" and \"urgent\".\n",
            "It would be useful if it contained all of the sequences that the folder\n",
            "happens to have defined.   A \"New sequence\" entry would also be useful\n",
            "(to mark the message with a sequence name that didn't previously exist,\n",
            "which can be done now using \"Search\" and the pick interface, but is\n",
            "clumsy that way)\n",
            "\n",
            "Actually, you once could, now when I try this, entering a sequence name\n",
            "in the pick box, and a single message number, or a range N-N in the\n",
            "list of messages, and no pick attributes at all, I now get ...\n",
            "\n",
            "syntax error in expression \"int(1+1+(1 hit-1)*(3868-1-2)/(4878-1))\"\n",
            "    while executing\n",
            "\"expr int($minlineno+1+($msgid-$minmsgid)*($maxlineno-$minlineno-2)/($maxmsgid-$minmsgid))\"\n",
            "    (procedure \"Ftoc_FindMsg\" line 46)\n",
            "    invoked from within\n",
            "\"Ftoc_FindMsg $msg\"\n",
            "    (procedure \"Ftoc_FindMsgs\" line 5)\n",
            "    invoked from within\n",
            "\"Ftoc_FindMsgs $msgids\"\n",
            "    (procedure \"Ftoc_PickMsgs\" line 5)\n",
            "    invoked from within\n",
            "\"Ftoc_PickMsgs $pick(ids) $pick(addtosel)\"\n",
            "    (procedure \"PickInner\" line 13)\n",
            "    invoked from within\n",
            "\"PickInner {exec pick +inbox -list} {4852 -sequence mercury}\"\n",
            "    (\"uplevel\" body line 1)\n",
            "    invoked from within\n",
            "\"uplevel #0 $cmd\"\n",
            "    (procedure \"busyCursorInner\" line 8)\n",
            "    invoked from within\n",
            "\"busyCursorInner $cmd $widgets\"\n",
            "    (procedure \"busyCursorHack\" line 32)\n",
            "    invoked from within\n",
            "\"busyCursorHack $args\"\n",
            "    (\"cursor\" arm line 1)\n",
            "    invoked from within\n",
            "\"switch $busy(style) {\n",
            "\ticon\t\t{busyIcon $args}\n",
            "\tcursorAll\t{busyCursor $args}\n",
            "\tcursor\t\t{busyCursorHack $args}\n",
            "\tdefault\t\t{eval $args}\n",
            "    }\"\n",
            "    (procedure \"busy\" line 3)\n",
            "    invoked from within\n",
            "\"busy PickInner $cmd $msgs\"\n",
            "    (procedure \"Pick_It\" line 51)\n",
            "    invoked from within\n",
            "\"Pick_It\"\n",
            "    invoked from within\n",
            "\".pick.but.pick invoke\"\n",
            "    (\"uplevel\" body line 1)\n",
            "    invoked from within\n",
            "\"uplevel #0 [list $w invoke]\"\n",
            "    (procedure \"tkButtonUp\" line 7)\n",
            "    invoked from within\n",
            "\"tkButtonUp .pick.but.pick\n",
            "\"\n",
            "    (command bound to event)\n",
            "\n",
            "It has been ages since I did this last though.   I tried adding a Subject\n",
            "to pick on (easy as I know what's in the message...) which made no difference.\n",
            "Looks as if something is now saying \"1 hit\" when before it didn't, or\n",
            "similar.\n",
            "\n",
            "  | I've also changed the ftoc colorization as discussed briefly on the list a \n",
            "  | week or so ago.\n",
            "\n",
            "Any chance of making the current message a little brighter background?\n",
            "Just to make it stand out a fraction more than it does (maybe this is\n",
            "more apparent to me than many, as I use very small fonts everywhere,\n",
            "the background of the ftoc line isn't very wide).\n",
            "\n",
            "Hope this helps.\n",
            "\n",
            "kre\n",
            "\n",
            "\n",
            "\n",
            "_______________________________________________\n",
            "Exmh-workers mailing list\n",
            "Exmh-workers@redhat.com\n",
            "https://listman.redhat.com/mailman/listinfo/exmh-workers\n",
            "\n",
            "\n"
          ]
        }
      ],
      "source": [
        "print(\"\\nAvant le preprocessing :\\n\",email_to_text(X[0]))"
      ]
    },
    {
      "cell_type": "code",
      "execution_count": 189,
      "metadata": {
        "colab": {
          "base_uri": "https://localhost:8080/"
        },
        "id": "tkRcx_eZiN39",
        "outputId": "37786f8b-4332-45c2-fee3-629ba2e0ba46"
      },
      "outputs": [
        {
          "name": "stdout",
          "output_type": "stream",
          "text": [
            "\n",
            "Apres le preprocessing :\n",
            " date tue nombr aug nombr nombr nombr nombr nombr from chri garrigu messag id i m hope that all peopl with no addit sequenc will notic are pure cosmet chang well first when exmh the latest one with your chang start i get can t read flist totalcount unseen no such element in array while execut if dollarflist totalcount dollarmhprofil unseen sequenc nombr flaginn spool iconspool labelup els flaginn down icondown labeldown procedur flagmsgseen line nombr invok from within flagmsgseen procedur msgseen line nombr invok from within msgseen dollarmsgid procedur msgshow line nombr invok from within msgshow dollarmsgid procedur msgchang line nombr invok from within msgchang nombr show invok from within time list msgchang dollarmsgid dollarshow procedur msgchang line nombr invok from within msgchang dollarmsg id dollarshow procedur msgshow line nombr invok from within msgshow cur eval bodi line nombr invok from within eval dollarmsgshowproc procedur folderchang line nombr invok from within folderchang inbox msgshow cur invok from within time list folderchang dollarfold dollarmsgshowproc procedur folderchang line nombr invok from within folderchang dollarexmh folder procedur exmh line nombr invok from within exmh after script which is probabl relat to my not have an unseen sequenc anywher certainli not in inbox i read all of my outstand mail befor i tri thi new exmh second i ve been use to have a key bind which wa to msgmarkunseen which doesn t seem to exist ani more and i m not sure what i should replac that with there s obvious a way as the sequenc menu doe thi the mark unseen menu entri in the messag more menu is still want that function as well for those who have other sequenc defin the window will widen to display the other sequenc ani chanc of have that lengthen instead i like all my exmh stuff in nice column fit the display better that is i use the detach folder list one column the main exmh window take up full screen top to bottom but less than half the width etc i have space for more sequenc in the unseen window as long as they remain onc nice narrow window best would be if the sequenc could be order by some prefer then one which didn t fit would just fall off the bottom and not be shown i d also prefer it if that window had no unusu background colour just one constant colour i have been run the unseen window with background black on a root window that is all black with no border or other decor but made sticki the appear is just like the folder with unseen messag and their count are written into the root window becaus it is sticki thi small display follow me around and do i can see when new mail need process i also find that i tend to have a bunch of sequenc that onli ever occur in one folder some i had forgotten i ever creat so in addit to the sequenc to alway show and sequenc to never show a prefer to onli show sequenc that occur in more than one folder would be use and then have the sequenc that occor onli in the folder i m visit appear in the list when that folder is current thi is just to keep the list size somewhat manag while remain product i quit often use a sequenc to rememb a particular messag in a folder the name is use onli there and onli for one messag it give me a handl on the messag which remain as the folder is pack sort etc i haven t updat my exmh for some time now so i m not sure if thi next one is new or just new sinc nombr nombr but the sequenc menu on the bar with new flist search onli contain unseen and urgent it would be use if it contain all of the sequenc that the folder happen to have defin a new sequenc entri would also be use to mark the messag with a sequenc name that didn t previous exist which can be done now use search and the pick interfac but is clumsi that way actual you onc could now when i tri thi enter a sequenc name in the pick box and a singl messag number or a rang n n in the list of messag and no pick attribut at all i now get syntax error in express int nombr nombr nombr hit nombr nombr nombr nombr nombr nombr while execut expr int dollarminlineno nombr dollarmsgid dollarminmsgid dollarmaxlineno dollarminlineno nombr dollarmaxmsgid dollarminmsgid procedur ftocfindmsg line nombr invok from within ftocfindmsg dollarmsg procedur ftocfindmsg line nombr invok from within ftocfindmsg dollarmsgid procedur ftocpickmsg line nombr invok from within ftocpickmsg dollarpick id dollarpick addtosel procedur pickinn line nombr invok from within pickinn exec pick inbox list nombr sequenc mercuri uplevel bodi line nombr invok from within uplevel nombr dollarcmd procedur busycursorinn line nombr invok from within busycursorinn dollarcmd dollarwidget procedur busycursorhack line nombr invok from within busycursorhack dollararg cursor arm line nombr invok from within switch dollarbusi style icon busyicon dollararg cursoral busycursor dollararg cursor busycursorhack dollararg default eval dollararg procedur busi line nombr invok from within busi pickinn dollarcmd dollarmsg procedur pickit line nombr invok from within pickit invok from within pick but pick invok uplevel bodi line nombr invok from within uplevel nombr list dollarw invok procedur tkbuttonup line nombr invok from within tkbuttonup pick but pick command bound to event it ha been age sinc i did thi last though i tri ad a subject to pick on easi as i know what s in the messag which made no differ look as if someth is now say nombr hit when befor it didn t or similar i ve also chang the ftoc color as discuss briefli on the list a week or so ago ani chanc of make the current messag a littl brighter background just to make it stand out a fraction more than it doe mayb thi is more appar to me than mani as i use veri small font everywher the background of the ftoc line isn t veri wide hope thi help kre exmh worker mail list emailaddr httpaddr\n"
          ]
        }
      ],
      "source": [
        "print(\"\\nApres le preprocessing :\\n\",_X[0])"
      ]
    },
    {
      "attachments": {},
      "cell_type": "markdown",
      "metadata": {
        "id": "ees1cG_fkyFV"
      },
      "source": [
        "#Vocabulary building\n",
        "The vocabulary list is intended for spam emails only."
      ]
    },
    {
      "cell_type": "code",
      "execution_count": 164,
      "metadata": {
        "id": "0f8Q9OXeJ_-E"
      },
      "outputs": [],
      "source": [
        "#Creation list_vocabulaire\n",
        "def list_vocabulaire2(X,k):\n",
        "  list=X.split()\n",
        "  vocabulaire=[]\n",
        "  v = collections.Counter(list)\n",
        "  keys = v.keys() # récupérer les clés de v\n",
        "  for key in keys:\n",
        "   if v[key]>k :\n",
        "    vocabulaire.append(key) #ajouter les mots qui se repetent plus q k fois dans la lste vocabulaire\n",
        "  return vocabulaire"
      ]
    },
    {
      "cell_type": "code",
      "execution_count": 178,
      "metadata": {
        "id": "zrX2N3xNVLc4"
      },
      "outputs": [],
      "source": [
        "spam=_X[len(ham_emails):] #retourner les emails spam"
      ]
    },
    {
      "cell_type": "code",
      "execution_count": 179,
      "metadata": {
        "id": "1XyC5rJODWkJ"
      },
      "outputs": [],
      "source": [
        "vocab = spam\n",
        "vocab = ''.join(vocab)\n",
        "v = list_vocabulaire2(vocab,5) # pour le k nous avonss testé ses valeurs et le k=5 donne le meilleur résultat"
      ]
    },
    {
      "cell_type": "code",
      "execution_count": 180,
      "metadata": {
        "colab": {
          "base_uri": "https://localhost:8080/"
        },
        "id": "1no1Lhp7V_kF",
        "outputId": "35e485f0-5fd0-4520-a498-00d12fa20c74"
      },
      "outputs": [
        {
          "data": {
            "text/plain": [
              "4631"
            ]
          },
          "execution_count": 180,
          "metadata": {},
          "output_type": "execute_result"
        }
      ],
      "source": [
        "len(v)"
      ]
    },
    {
      "cell_type": "code",
      "execution_count": 168,
      "metadata": {
        "colab": {
          "base_uri": "https://localhost:8080/",
          "height": 35
        },
        "id": "xdaLj_qEkhAB",
        "outputId": "9ebb8d41-59ef-46e9-a9a0-9e9e0161f8f9"
      },
      "outputs": [
        {
          "data": {
            "application/vnd.google.colaboratory.intrinsic+json": {
              "type": "string"
            },
            "text/plain": [
              "'f = open(\"Vocabulaire.txt\", \"w\")\\nfor word in v:\\n    \\n    f.write(word )\\n    f.write(\\'\\n\\')'"
            ]
          },
          "execution_count": 168,
          "metadata": {},
          "output_type": "execute_result"
        }
      ],
      "source": [
        "'''f = open(\"Vocabulaire.txt\", \"w\")\n",
        "for word in v:\n",
        "    \n",
        "    f.write(word )\n",
        "    f.write('\\n')'''"
      ]
    },
    {
      "attachments": {},
      "cell_type": "markdown",
      "metadata": {
        "id": "KJ23pQ9wk_i_"
      },
      "source": [
        "# Extract features"
      ]
    },
    {
      "attachments": {},
      "cell_type": "markdown",
      "metadata": {
        "id": "Sa-8RDjFlFbK"
      },
      "source": [
        "## Représentation binaire des caractéristiques :"
      ]
    },
    {
      "cell_type": "code",
      "execution_count": 181,
      "metadata": {
        "colab": {
          "base_uri": "https://localhost:8080/"
        },
        "id": "xQA_YCDJXvaf",
        "outputId": "34dd2de7-5165-4b93-e853-121d92f6b2b2"
      },
      "outputs": [
        {
          "name": "stdout",
          "output_type": "stream",
          "text": [
            "[[0 1 1 ... 0 0 0]\n",
            " [0 1 1 ... 0 0 0]\n",
            " [0 1 1 ... 0 0 0]\n",
            " ...\n",
            " [0 1 1 ... 0 0 0]\n",
            " [0 1 1 ... 0 0 0]\n",
            " [0 1 1 ... 1 1 1]]\n"
          ]
        }
      ],
      "source": [
        "# Création d'un objet CountVectorizer avec le vocabulaire spécifié\n",
        "count_vect = CountVectorizer(binary=True, vocabulary=v)\n",
        "\n",
        "# Transformation des e-mails en une matrice binaire d'occurrences de mots\n",
        "x_bin = count_vect.transform(_X).toarray()\n",
        "\n",
        "# Affichage de la matrice binaire d'occurrences de mots\n",
        "print(x_bin)"
      ]
    },
    {
      "attachments": {},
      "cell_type": "markdown",
      "metadata": {
        "id": "vBrVNTxZdTW3"
      },
      "source": [
        "spliting\n"
      ]
    },
    {
      "cell_type": "code",
      "execution_count": 182,
      "metadata": {
        "id": "Y8QqiGSAmAQJ"
      },
      "outputs": [],
      "source": [
        "x_bin_train, x_bin_test, y_bin_train,y_bin_test  = train_test_split(x_bin, y, random_state=0, test_size = 0.3)"
      ]
    },
    {
      "cell_type": "code",
      "execution_count": 183,
      "metadata": {
        "colab": {
          "base_uri": "https://localhost:8080/"
        },
        "id": "GeH8kEx9mvS9",
        "outputId": "6b629e62-1c68-449c-c986-c8e8aa00785a"
      },
      "outputs": [
        {
          "data": {
            "text/plain": [
              "(4268, 4631)"
            ]
          },
          "execution_count": 183,
          "metadata": {},
          "output_type": "execute_result"
        }
      ],
      "source": [
        "x_bin_train.shape"
      ]
    },
    {
      "attachments": {},
      "cell_type": "markdown",
      "metadata": {
        "id": "KFwiEik0lU1g"
      },
      "source": [
        "## Représentation des caractéristiques par comptage"
      ]
    },
    {
      "cell_type": "code",
      "execution_count": 174,
      "metadata": {
        "colab": {
          "base_uri": "https://localhost:8080/"
        },
        "id": "GTp_NoI7mXg8",
        "outputId": "79406ecb-ec40-446a-9116-c95f9d6efc31"
      },
      "outputs": [
        {
          "name": "stdout",
          "output_type": "stream",
          "text": [
            "[[  0  47   1 ...   0   0   0]\n",
            " [  0  40  12 ...   0   0   0]\n",
            " [  0  18   2 ...   0   0   0]\n",
            " ...\n",
            " [  0   2   7 ...   0   0   0]\n",
            " [  0   2   6 ...   0   0   0]\n",
            " [  0 107  16 ...   7   7   9]]\n"
          ]
        }
      ],
      "source": [
        "# Création d'un objet CountVectorizer avec le vocabulaire spécifié\n",
        "count_vect = CountVectorizer(binary=False, vocabulary=v)\n",
        "\n",
        "# Transformation des e-mails en une matrice  d'occurrences de mots\n",
        "x_comp = count_vect.transform(_X).toarray()\n",
        "\n",
        "# Affichage de la matrice  d'occurrences de mots\n",
        "print(x_comp)"
      ]
    },
    {
      "cell_type": "code",
      "execution_count": 175,
      "metadata": {
        "colab": {
          "base_uri": "https://localhost:8080/",
          "height": 52
        },
        "id": "bXL76X4ES6vl",
        "outputId": "d4c0601b-2ce6-4089-943a-5446ed8f1a49"
      },
      "outputs": [
        {
          "data": {
            "application/vnd.google.colaboratory.intrinsic+json": {
              "type": "string"
            },
            "text/plain": [
              "'def is_matrix_null(matrix):\\n    for row in matrix:\\n        for element in row:\\n            if element != 0:\\n                return False\\n    return True\\n    \\nis_matrix_null(x_comp)'"
            ]
          },
          "execution_count": 175,
          "metadata": {},
          "output_type": "execute_result"
        }
      ],
      "source": [
        "'''def is_matrix_null(matrix):\n",
        "    for row in matrix:\n",
        "        for element in row:\n",
        "            if element != 0:\n",
        "                return False\n",
        "    return True\n",
        "    \n",
        "is_matrix_null(x_comp)'''"
      ]
    },
    {
      "cell_type": "code",
      "execution_count": 176,
      "metadata": {
        "colab": {
          "base_uri": "https://localhost:8080/"
        },
        "id": "gDZX3gHpnZY_",
        "outputId": "d928ff30-421e-42c2-85bc-9a84f063ddc6"
      },
      "outputs": [
        {
          "data": {
            "text/plain": [
              "(6098, 4631)"
            ]
          },
          "execution_count": 176,
          "metadata": {},
          "output_type": "execute_result"
        }
      ],
      "source": [
        "x_comp.shape"
      ]
    },
    {
      "cell_type": "code",
      "execution_count": 177,
      "metadata": {
        "id": "JC3me2MVmXg9"
      },
      "outputs": [],
      "source": [
        "x_comp_train, x_comp_test, y_comp_train,y_comp_test  = train_test_split(x_comp, y, random_state=0, test_size = 0.3)"
      ]
    },
    {
      "attachments": {},
      "cell_type": "markdown",
      "metadata": {
        "id": "S1vtcsNLcc4I"
      },
      "source": [
        "# Classification\n",
        "\n"
      ]
    },
    {
      "attachments": {},
      "cell_type": "markdown",
      "metadata": {
        "id": "bp6s_S-JcmU9"
      },
      "source": [
        "## modele 1: SVM"
      ]
    },
    {
      "attachments": {},
      "cell_type": "markdown",
      "metadata": {
        "id": "Sr0n66XNcu8K"
      },
      "source": [
        "### Représentation binaire des caractéristiques "
      ]
    },
    {
      "cell_type": "code",
      "execution_count": 177,
      "metadata": {
        "id": "LwoTFJaecq9K"
      },
      "outputs": [],
      "source": []
    },
    {
      "attachments": {},
      "cell_type": "markdown",
      "metadata": {
        "id": "p1MUxX01c2-A"
      },
      "source": [
        "### Représentation  des caractéristiques  par comptage"
      ]
    },
    {
      "cell_type": "code",
      "execution_count": 177,
      "metadata": {
        "id": "VL8wNzFCc2-I"
      },
      "outputs": [],
      "source": []
    },
    {
      "attachments": {},
      "cell_type": "markdown",
      "metadata": {
        "id": "TMhz3WqZdGxq"
      },
      "source": [
        "## modele 2: RNN"
      ]
    },
    {
      "attachments": {},
      "cell_type": "markdown",
      "metadata": {
        "id": "XMklGyktdGyG"
      },
      "source": [
        "### Représentation binaire des caractéristiques "
      ]
    },
    {
      "cell_type": "code",
      "execution_count": 177,
      "metadata": {
        "id": "PjpridhidGyH"
      },
      "outputs": [],
      "source": []
    },
    {
      "attachments": {},
      "cell_type": "markdown",
      "metadata": {
        "id": "_0VsZNeMdGyH"
      },
      "source": [
        "### Représentation  des caractéristiques  par comptage"
      ]
    },
    {
      "cell_type": "code",
      "execution_count": 177,
      "metadata": {
        "id": "UqH5l-PWdGyI"
      },
      "outputs": [],
      "source": []
    }
  ],
  "metadata": {
    "colab": {
      "collapsed_sections": [
        "bp6s_S-JcmU9",
        "Sr0n66XNcu8K",
        "p1MUxX01c2-A",
        "TMhz3WqZdGxq"
      ],
      "provenance": []
    },
    "kernelspec": {
      "display_name": "Python 3",
      "name": "python3"
    },
    "language_info": {
      "name": "python"
    }
  },
  "nbformat": 4,
  "nbformat_minor": 0
}
